{
 "cells": [
  {
   "cell_type": "markdown",
   "metadata": {},
   "source": [
    "<center><h1>Snakes and Ladders Game</h1></center>"
   ]
  },
  {
   "cell_type": "markdown",
   "metadata": {},
   "source": [
    "<img src=\"snakesladdersimg.jpg\" alt=\"snakes_and_ladders_pic\" style=\"width: 10px; height: 10px;\"/>"
   ]
  },
  {
   "cell_type": "markdown",
   "metadata": {},
   "source": [
    "Snakes and Ladders is a classic multiplayer board game. The board consists 100 squares with numbers and both the snakes and ladders at some of the squares. Player starts from square 0, the goal is to reach the square 100. Each turn, the player roll the dice and move the counter forward according to the number that is shown on the dice. There are some additional rules:\n",
    " * If the player lands at the bottom of the ladder, the player will go to the square where the top of the ladder is. \n",
    " * If the player lands at the snake head, the player must go to go to the tail of the snake.\n",
    " * If the player lands at the square above 100, the player stays at the current place."
   ]
  },
  {
   "cell_type": "markdown",
   "metadata": {},
   "source": [
    "In this notebook, we are interested in approximating the number of steps until finish. There are two methods that we're going to use and compare: **Dynamic Programming** and **Monte Carlo Method**."
   ]
  },
  {
   "cell_type": "markdown",
   "metadata": {},
   "source": [
    "## 1. Imports"
   ]
  },
  {
   "cell_type": "code",
   "execution_count": 1,
   "metadata": {},
   "outputs": [],
   "source": [
    "import numpy as np\n",
    "import matplotlib.pyplot as plt\n",
    "import time"
   ]
  },
  {
   "cell_type": "markdown",
   "metadata": {},
   "source": [
    "## 2. Snakes and Ladders Game Implementation"
   ]
  },
  {
   "cell_type": "markdown",
   "metadata": {},
   "source": [
    "We're going to create a class for the game that imitates the gym environment"
   ]
  },
  {
   "cell_type": "markdown",
   "metadata": {},
   "source": [
    "### Class Definition"
   ]
  },
  {
   "cell_type": "code",
   "execution_count": 2,
   "metadata": {},
   "outputs": [],
   "source": [
    "class Dice:\n",
    "    \n",
    "    def __init__(self, faces=6):\n",
    "        \n",
    "        self.faces = np.arange(1, faces + 1)\n",
    "    \n",
    "    def roll(self):\n",
    "        \n",
    "        return np.random.choice(self.faces)"
   ]
  },
  {
   "cell_type": "code",
   "execution_count": 3,
   "metadata": {},
   "outputs": [],
   "source": [
    "class SLEnvironment:\n",
    "    \n",
    "    def __init__(self, snakes, ladders, dice, init_state=0, terminal_state=100):\n",
    "        '''\n",
    "        Input:\n",
    "            snakes: dict\n",
    "                Dictionary of snake heads and tails\n",
    "            ladders: dict\n",
    "                Dictionary of bottom and top ladders\n",
    "            dice: Dice\n",
    "                Dice object\n",
    "            init_state: int\n",
    "                Starting square number\n",
    "            terminal_state: int\n",
    "                Winning square number\n",
    "        '''\n",
    "        \n",
    "        self.dice = dice\n",
    "        self.snakes = snakes\n",
    "        self.ladders = ladders\n",
    "        self.init_state = init_state\n",
    "        self.terminal_state = terminal_state\n",
    "        self.state_set = list(set(np.arange(101)).difference(set(ladders.keys())).difference(set(snakes.keys())))\n",
    "        \n",
    "    def reset(self):\n",
    "        '''\n",
    "        Method to reset the game\n",
    "        Output:\n",
    "            next_state: int\n",
    "                next state\n",
    "            done: bool\n",
    "                represent if the player reach terminal state\n",
    "        '''\n",
    "        self.current_state = self.init_state\n",
    "        self.history = [self.current_state]\n",
    "        \n",
    "        return 0, False\n",
    "    \n",
    "    def is_win(self):\n",
    "        '''\n",
    "        Method to check if the current state is at the terminal state\n",
    "        Output:\n",
    "            is_win: bool\n",
    "                true if the current state is the terminal state, otherwise false\n",
    "        '''\n",
    "        if self.current_state == self.terminal_state:\n",
    "            return True\n",
    "\n",
    "        return False\n",
    "    \n",
    "    def step(self):\n",
    "        '''\n",
    "        Method to take a step in the game. It rolls the dice and moves\n",
    "        \n",
    "        Since it doesn't have any action choices, the only interesting variables\n",
    "        are next state and done.\n",
    "        \n",
    "        Output:\n",
    "            next_state: int\n",
    "                next state\n",
    "            done: bool\n",
    "                represent if the player reach terminal state\n",
    "        '''\n",
    "        \n",
    "        # Get all possible next states\n",
    "        possible_next_states = self.get_possible_next_state(self.current_state)\n",
    "        \n",
    "        # Roll the dice\n",
    "        dice_roll = self.dice.roll()\n",
    "        \n",
    "        # Get next state variable, save it to history\n",
    "        next_state = possible_next_states[dice_roll-1]\n",
    "        self.current_state = next_state\n",
    "        self.history.append(next_state)\n",
    "        \n",
    "        # Get done variable\n",
    "        if self.is_win():\n",
    "            done = True\n",
    "        else:\n",
    "            done = False\n",
    "            \n",
    "        return next_state, done\n",
    "        \n",
    "        \n",
    "        \n",
    "    def get_possible_next_state(self, current_state):\n",
    "        '''\n",
    "        Method to get all possible next state. Notice that we use current_state\n",
    "        argument instead of self.current_state attribute. This is useful for \n",
    "        the policy evaluation.\n",
    "        \n",
    "        Input:\n",
    "            current_state: int\n",
    "        Output:\n",
    "            next_states: list of int\n",
    "        '''\n",
    "        \n",
    "        # get the next possible states\n",
    "        next_states = np.arange(1, len(self.dice.faces) + 1) + current_state\n",
    "        \n",
    "        # go to the top ladder if the next state land on bottom ladder\n",
    "        next_states = [self.ladders[state] if state in self.ladders.keys() else state for state in next_states]\n",
    "        \n",
    "        # go to the snake tail if the next state land on snake head\n",
    "        next_states = [self.snakes[state] if state in self.snakes.keys() else state for state in next_states]\n",
    "        \n",
    "        # stay in the state if the next state is more than 100\n",
    "        next_states = [current_state if state > 100 else state for state in next_states]\n",
    "        \n",
    "        return next_states"
   ]
  },
  {
   "cell_type": "markdown",
   "metadata": {},
   "source": [
    "### Instantiation"
   ]
  },
  {
   "cell_type": "markdown",
   "metadata": {},
   "source": [
    "We're going to use the original 100 squares snakes and ladders game"
   ]
  },
  {
   "cell_type": "code",
   "execution_count": 4,
   "metadata": {},
   "outputs": [],
   "source": [
    "initial_state = 0\n",
    "terminal_state = 100"
   ]
  },
  {
   "cell_type": "code",
   "execution_count": 5,
   "metadata": {},
   "outputs": [],
   "source": [
    "# snakes and ladders data come from the original game\n",
    "ladders = {\n",
    "    1: 38,\n",
    "    4: 14,\n",
    "    9: 31,\n",
    "    21: 42,\n",
    "    28: 84,\n",
    "    36: 44,\n",
    "    51: 67,\n",
    "    71: 91,\n",
    "    80: 100\n",
    "}\n",
    "\n",
    "snakes = {\n",
    "    16: 6,\n",
    "    47: 26,\n",
    "    49: 11,\n",
    "    56: 53,\n",
    "    62: 19,\n",
    "    64: 60,\n",
    "    87: 24,\n",
    "    93: 73,\n",
    "    95: 75,\n",
    "    98: 78\n",
    "}\n",
    "\n",
    "# Stores the non available states such as the bottom of ladder and the head of the snake\n",
    "non_available_states = set(snakes.keys()).union(set(ladders.keys()))\n",
    "\n",
    "# Get available states\n",
    "available_states = list(set(np.arange(initial_state, terminal_state+1)).difference(non_available_states))"
   ]
  },
  {
   "cell_type": "code",
   "execution_count": 6,
   "metadata": {},
   "outputs": [],
   "source": [
    "dice = Dice(faces=6)\n",
    "sl_env = SLEnvironment(snakes, ladders, dice, initial_state, terminal_state)"
   ]
  },
  {
   "cell_type": "markdown",
   "metadata": {},
   "source": [
    "## 3. Policy Evaluation"
   ]
  },
  {
   "cell_type": "markdown",
   "metadata": {},
   "source": [
    "Dynamic Programming requires a complete knowledge about the environment dynamic. For the snakes and ladders game, the full environment dynamic is known. We are going to use a dynamic programming method called **iterative policy evaluation** method to get the value function. In this problem, we treat the reward $r$ as the step, our desired value is the number of steps required to finish."
   ]
  },
  {
   "cell_type": "markdown",
   "metadata": {},
   "source": [
    "The Bellman's equation for solving the value in a state $s$ following policy $\\pi$ is : \n",
    "\n",
    "$$v(s) = \\mathbb{E}_{\\pi}[G_{t} | S_{t} = s] = \\sum_{a}\\pi(a|s)\\sum_{s', r}p(s', r | s, a)(r + \\gamma v(s'))$$\n",
    "\n",
    "We want to apply Bellman's equation for the game. First, we define some necessary notaions. Let $S$ be the set of all states, $S_{L}$ be the set of states which at the bottom of the ladder, and $S_{S}$ the set of states which at the head of snake. Suppose also $S' = S - (S_{L} \\cup S_{S})$. Then $S'$ contains all the possible next states.\n",
    "\n",
    "Remarks of applying Bellman's equation for snakes and ladders game : \n",
    "\n",
    " 1. The reward $r$ will be $+1$ for all $s \\in \\mathcal{S}$ and $0$ for the terminal state. This will represents the number of steps to reach 100. Also we specify $\\gamma = 1$\n",
    " 2. There is no action, so we don't consider the policy $\\pi$\n",
    " 3. Probability of landing into state is determined by the dice\n",
    " \n",
    "That being said, we can rewrite Bellman's equation for snakes and ladders as: \n",
    "\n",
    "$$v(s) = \\sum_{s' \\in S'}p(s' | s)(1 + v(s'))$$\n",
    "\n",
    "with $p(s'|s) = \\frac{1}{6}$ for a fair six sided die"
   ]
  },
  {
   "cell_type": "markdown",
   "metadata": {},
   "source": [
    "### Train the Model"
   ]
  },
  {
   "cell_type": "code",
   "execution_count": 7,
   "metadata": {
    "scrolled": false
   },
   "outputs": [
    {
     "name": "stdout",
     "output_type": "stream",
     "text": [
      "Done!\n"
     ]
    }
   ],
   "source": [
    "# initialize value\n",
    "value_set = {i: np.random.randint(low = 1, high = 10) for i in available_states}\n",
    "value_set[100] = 0\n",
    "\n",
    "# The epsilon variable represents how accurate we want to be\n",
    "eps = 0.00000001\n",
    "while True:\n",
    "    \n",
    "    delta = 0\n",
    "    \n",
    "    # Iterate for all states (0 to 100)\n",
    "    for s in available_states:\n",
    "        \n",
    "        if s == terminal_state:\n",
    "            continue\n",
    "        \n",
    "        # get the possible next states\n",
    "        next_states = sl_env.get_possible_next_state(s)\n",
    "        \n",
    "        # store the current value of state s\n",
    "        v = value_set[s]\n",
    "        \n",
    "        # update the value using the expected update defined by policy iteration algorithm above\n",
    "        value_set[s] = np.sum([value_set[state] + 1 for state in next_states]) / len(sl_env.dice.faces)\n",
    "        \n",
    "        # calculate the difference between the new value and old value\n",
    "        delta = np.max([delta, np.abs(v - value_set[s])])\n",
    "        \n",
    "    # break if the updated difference is less than epsilon \n",
    "    if delta < eps:\n",
    "        break\n",
    "        \n",
    "print(\"Done!\")"
   ]
  },
  {
   "cell_type": "markdown",
   "metadata": {},
   "source": [
    "### View Result"
   ]
  },
  {
   "cell_type": "code",
   "execution_count": 8,
   "metadata": {},
   "outputs": [
    {
     "name": "stdout",
     "output_type": "stream",
     "text": [
      "Value in state 0 is 39.225122116448105\n",
      "Value in state 2 is 39.69640592456476\n",
      "Value in state 3 is 39.19963957297471\n",
      "Value in state 5 is 39.2950263250733\n",
      "Value in state 6 is 39.08728681562757\n",
      "Value in state 7 is 38.855293058676494\n",
      "Value in state 8 is 38.60911852279798\n",
      "Value in state 10 is 38.73419131291309\n",
      "Value in state 11 is 38.26522683182845\n",
      "Value in state 12 is 37.840849758439695\n",
      "\n",
      "Value in state 88 is 17.551762793490777\n",
      "Value in state 89 is 17.706348704416087\n",
      "Value in state 90 is 16.717703312773782\n",
      "Value in state 91 is 15.870292977054476\n",
      "Value in state 92 is 16.511321536239553\n",
      "Value in state 94 is 12.093836496173983\n",
      "Value in state 96 is 10.785830961701484\n",
      "Value in state 97 is 10.785830961701484\n",
      "Value in state 99 is 6.000000000000006\n",
      "Value in state 100 is 0\n"
     ]
    }
   ],
   "source": [
    "# rounding the value function\n",
    "value_set = {k: v for k, v in value_set.items()}\n",
    "\n",
    "for i in range(10):\n",
    "    print(f\"Value in state {list(value_set.keys())[i]} is {list(value_set.values())[i]}\")\n",
    "    \n",
    "print()\n",
    "for i in range(10, 0, -1):\n",
    "    print(f\"Value in state {list(value_set.keys())[-i]} is {list(value_set.values())[-i]}\")"
   ]
  },
  {
   "cell_type": "markdown",
   "metadata": {},
   "source": [
    "What this mean is given a current state s, the expected number of steps until finish square is value_set[s]. As an example, if we look at the value of square number 99, it must be equals to 6. This is because the expected number of turns until finish is 6. If we let $X_{99}$ be the number of turns until finish from square 99, then the expectation equation is:\n",
    "\n",
    "$$\n",
    "\\begin{aligned}\n",
    "\\mathbb{E}[X_{99}] &= \\mathbb{E}[X_{99} | \\text{dice}=1] p(\\text{dice}=1) + \\mathbb{E}[X_{99} | \\text{dice}\\ne1] p(\\text{dice}\\ne1) \\\\\n",
    "&= \\frac{1}{6} + (1 + \\mathbb{E}[X_{99}]) \\frac{5}{6} \\\\\n",
    "&= 1 + \\frac{5}{6} \\mathbb{E}[X_{99}]\n",
    "\\end{aligned}\n",
    "$$\n",
    "\n",
    "Solving this equation yields 6, which is our value function at state 99."
   ]
  },
  {
   "cell_type": "code",
   "execution_count": 9,
   "metadata": {},
   "outputs": [
    {
     "data": {
      "image/png": "[encoded data removed]",
      "text/plain": [
       "<Figure size 720x432 with 1 Axes>"
      ]
     },
     "metadata": {
      "needs_background": "light"
     },
     "output_type": "display_data"
    }
   ],
   "source": [
    "fig, ax = plt.subplots(1, 1, figsize=(10, 6))\n",
    "_ = plt.hist(value_set.values(), bins=10)\n",
    "_ = plt.vlines(np.mean(list(value_set.values())), ymin=0, ymax=np.max(list(value_set.values())), colors='red')\n",
    "_ = plt.text(x=np.mean(list(value_set.values()))+1,\n",
    "             y=np.max(list(value_set.values()))/1.7,\n",
    "             s=f\"$\\mu={round(np.mean(list(value_set.values())), 3)}$\",\n",
    "             color=\"red\")\n",
    "_ = plt.title(\"Value distribution\")\n",
    "_ = plt.xlabel(\"Value\")\n",
    "_ = plt.ylabel(\"Frequency\")"
   ]
  },
  {
   "cell_type": "markdown",
   "metadata": {},
   "source": [
    "## 4. Comparison with Monte Carlo"
   ]
  },
  {
   "cell_type": "markdown",
   "metadata": {},
   "source": [
    "The other method to solve the value function is Monte Carlo method. In here, we will compare the required computation until converge."
   ]
  },
  {
   "cell_type": "markdown",
   "metadata": {},
   "source": [
    "### Loss Function"
   ]
  },
  {
   "cell_type": "markdown",
   "metadata": {},
   "source": [
    "Before we head on to the comparison, we need to define the KPI to measure the quality of the estimation. We are going to use mean squared error as our KPI and treat our previous value set as our actual value. The mean squared error is defined as:\n",
    "\n",
    "$$\\mathcal{L}(\\mathbf{y}, \\mathbf{\\hat{y}}) = \\frac{1}{n}(\\mathbf{y} - \\mathbf{\\hat{y}})^{T} (\\mathbf{y} - \\mathbf{\\hat{y}})$$\n",
    "\n",
    "where $n$ is the number of non terminal states."
   ]
  },
  {
   "cell_type": "code",
   "execution_count": 10,
   "metadata": {},
   "outputs": [],
   "source": [
    "def loss(predicted, actual):\n",
    "    \n",
    "    '''\n",
    "    Mean squared Error\n",
    "    '''\n",
    "    \n",
    "    predicted_arr = np.array(list(predicted.values())) \n",
    "    actual_arr = np.array(list(actual.values())) \n",
    "    \n",
    "    return np.dot(predicted_arr - actual_arr, predicted_arr - actual_arr) / len(predicted_arr)"
   ]
  },
  {
   "cell_type": "markdown",
   "metadata": {},
   "source": [
    "### Number of Episodes"
   ]
  },
  {
   "cell_type": "code",
   "execution_count": 11,
   "metadata": {},
   "outputs": [],
   "source": [
    "n_episode = 500"
   ]
  },
  {
   "cell_type": "markdown",
   "metadata": {},
   "source": [
    "### Monte Carlo Prediction"
   ]
  },
  {
   "cell_type": "markdown",
   "metadata": {},
   "source": [
    "The difference between Monte Carlo estimation and Dynamic Programming is that the Monte Carlo doesn't need to know the environment dynamic. Instead, it will learn by experience from playing many games. The value estimation for each non terminal state is the average of steps required until finish."
   ]
  },
  {
   "cell_type": "code",
   "execution_count": 12,
   "metadata": {},
   "outputs": [],
   "source": [
    "# Helper function to generate one episode game\n",
    "def generate_episode(sl_env):\n",
    "        \n",
    "    s, done = sl_env.reset()\n",
    "\n",
    "    while not done:\n",
    "        s, done = sl_env.step()\n",
    "\n",
    "    return sl_env.history"
   ]
  },
  {
   "cell_type": "code",
   "execution_count": 13,
   "metadata": {},
   "outputs": [
    {
     "name": "stdout",
     "output_type": "stream",
     "text": [
      "Total time spent on 500 episodes: 0.716 seconds\n"
     ]
    }
   ],
   "source": [
    "# Monte Carlo Prediction\n",
    "returns_set = {i: 0 for i in available_states}\n",
    "returns_set[100] = 0\n",
    "num_visited = {i: 0 for i in available_states}\n",
    "episode_history_mc = []\n",
    "operation_history_mc = []\n",
    "\n",
    "start_time_mc = time.time()\n",
    "# loop until n_episode\n",
    "for i in range(n_episode):\n",
    "    print(f\"Episode {i+1}/{n_episode}\", end='\\r')\n",
    "\n",
    "    # play one game\n",
    "    play_history = generate_episode(sl_env)\n",
    "\n",
    "    # initialize returns\n",
    "    g = 0\n",
    "\n",
    "    # loop over from initial state up to before terminal\n",
    "    for i in range(len(play_history) - 2, -1, -1):\n",
    "\n",
    "        # increment the return\n",
    "        g = g + 1\n",
    "\n",
    "        # check if the current state is visited for the first time\n",
    "        if play_history[i] not in play_history[:i]:\n",
    "            \n",
    "            # increment number of visit\n",
    "            num_visited[play_history[i]] += 1\n",
    "            \n",
    "            # incremental update for average value\n",
    "            returns_set[play_history[i]] = returns_set[play_history[i]] + (\n",
    "                (1/num_visited[play_history[i]]) * (g - returns_set[play_history[i]])\n",
    "            )\n",
    "            \n",
    "            # Save the loss for each operation to the history\n",
    "            operation_history_mc.append(loss(returns_set, value_set))\n",
    "            \n",
    "    # Save the loss for each episode to history\n",
    "    episode_history_mc.append(loss(returns_set, value_set))\n",
    "    \n",
    "finish_time_mc = time.time()\n",
    "time_diff_mc = finish_time_mc - start_time_mc\n",
    "print(f\"Total time spent on {n_episode} episodes: {round(time_diff_mc, 3)} seconds\")"
   ]
  },
  {
   "cell_type": "markdown",
   "metadata": {},
   "source": [
    "### Policy Evaluation"
   ]
  },
  {
   "cell_type": "markdown",
   "metadata": {},
   "source": [
    "Next, we are going to re-do our policy evaluation algorithm. This time, we will also record the loss between the estimation and the actual value (value set)."
   ]
  },
  {
   "cell_type": "code",
   "execution_count": 14,
   "metadata": {},
   "outputs": [
    {
     "name": "stdout",
     "output_type": "stream",
     "text": [
      "Total time spent on 500 episodes: 1.249 seconds\n"
     ]
    }
   ],
   "source": [
    "returns_set = {i: 0 for i in available_states}\n",
    "returns_set[100] = 0\n",
    "episode_history_pe = []\n",
    "operation_history_pe = []\n",
    "\n",
    "start_time_pe = time.time()\n",
    "# loop until n_episode\n",
    "for i in range(n_episode):\n",
    "    print(f\"Episode {i+1}/{n_episode}\", end='\\r')\n",
    "\n",
    "    # Iterate for all states (0 to 100)\n",
    "    for s in available_states:\n",
    "\n",
    "        if s == terminal_state:\n",
    "            continue\n",
    "\n",
    "        # get the possible next states\n",
    "        next_states = sl_env.get_possible_next_state(s)\n",
    "\n",
    "        # update the value using the expected update defined by policy iteration algorithm above\n",
    "        returns_set[s] = np.sum([returns_set[state] + 1 for state in next_states]) / len(sl_env.dice.faces)\n",
    "        \n",
    "        # Save the loss for each operation to the history\n",
    "        operation_history_pe.append(loss(returns_set, value_set))\n",
    "\n",
    "    # Save the loss for each episode to the history\n",
    "    episode_history_pe.append(loss(returns_set, value_set))\n",
    "    \n",
    "finish_time_pe = time.time()\n",
    "time_diff_pe = finish_time_pe - start_time_pe\n",
    "print(f\"Total time spent on {n_episode} episodes: {round(time_diff_pe, 3)} seconds\")"
   ]
  },
  {
   "cell_type": "markdown",
   "metadata": {},
   "source": [
    "For iterating over the same number of episodes, the Monte Carlo method is significantly faster. This is because the Monte Carlo doesn't need to go to all possible states. Let's view the result by making a plot!"
   ]
  },
  {
   "cell_type": "markdown",
   "metadata": {},
   "source": [
    "### Plot Results"
   ]
  },
  {
   "cell_type": "code",
   "execution_count": 15,
   "metadata": {},
   "outputs": [
    {
     "data": {
      "image/png": "[encoded data removed]",
      "text/plain": [
       "<Figure size 864x576 with 1 Axes>"
      ]
     },
     "metadata": {
      "needs_background": "light"
     },
     "output_type": "display_data"
    }
   ],
   "source": [
    "fig, ax = plt.subplots(1, 1, figsize=(12,8))\n",
    "_ = plt.plot(episode_history_mc, label=\"Monte Carlo Prediction\")\n",
    "_ = plt.plot(episode_history_pe, label=\"Policy Evaluation\")\n",
    "_ = plt.legend()\n",
    "_ = plt.title(\"Comparison between MC and PE\")\n",
    "_ = plt.ylabel(\"Loss\")\n",
    "_ = plt.xlabel(\"Episodes\")"
   ]
  },
  {
   "cell_type": "markdown",
   "metadata": {},
   "source": [
    "At first, the Monte Carlo method has significantly lower loss than Policy Evaluation. But as they play more than 100 games, the Policy Evaluation gives the better prediction. This is because the Policy Evaluation method iterates over all states whereas Monte Carlo doesn't. To make it more fair, let's make another plot of loss and the number of updates."
   ]
  },
  {
   "cell_type": "code",
   "execution_count": 16,
   "metadata": {},
   "outputs": [
    {
     "data": {
      "image/png": "[encoded data removed]",
      "text/plain": [
       "<Figure size 864x576 with 1 Axes>"
      ]
     },
     "metadata": {
      "needs_background": "light"
     },
     "output_type": "display_data"
    }
   ],
   "source": [
    "fig, ax = plt.subplots(1, 1, figsize=(12,8))\n",
    "_ = plt.plot(operation_history_mc, label=\"Monte Carlo Prediction\")\n",
    "_ = plt.plot(operation_history_pe, label=\"Policy Evaluation\")\n",
    "_ = plt.legend()\n",
    "_ = plt.title(\"Comparison between MC and PE\")\n",
    "_ = plt.ylabel(\"Loss\")\n",
    "_ = plt.xlabel(\"Number of updates\")"
   ]
  },
  {
   "cell_type": "markdown",
   "metadata": {},
   "source": [
    "Again, Monte Carlo has a faster convergence rate during few thousand of updates, this method will be preferable if we need to estimate the value as soon as possible. "
   ]
  },
  {
   "cell_type": "markdown",
   "metadata": {},
   "source": [
    "## 5. Monte Carlo with Exploring Starts"
   ]
  },
  {
   "cell_type": "markdown",
   "metadata": {},
   "source": [
    "There's another variant of Monte Carlo method which is the exploring start. The way that it works is by generating an episode that starts from a random state (instead of initial_state) uniformly. At first glance, this method seems desirable because we will be updating the value of states that are rarely visited by the original Monte Carlo method. Below is the implementation:"
   ]
  },
  {
   "cell_type": "code",
   "execution_count": 17,
   "metadata": {},
   "outputs": [],
   "source": [
    "# Helper function to generate one episode game from random state\n",
    "def generate_episode_es(sl_env, available_state):\n",
    "\n",
    "    s, done = sl_env.reset()\n",
    "    \n",
    "    # remove the initial state\n",
    "    sl_env.history.pop(sl_env.init_state)\n",
    "    \n",
    "    # start from the random state\n",
    "    s = np.random.choice(available_state)\n",
    "    sl_env.current_state = s\n",
    "    sl_env.history.append(s)\n",
    "    done = sl_env.is_win()\n",
    "\n",
    "    while not done:\n",
    "        s, done = sl_env.step()\n",
    "\n",
    "    return sl_env.history"
   ]
  },
  {
   "cell_type": "code",
   "execution_count": 18,
   "metadata": {},
   "outputs": [
    {
     "name": "stdout",
     "output_type": "stream",
     "text": [
      "Total time spent on 500 episodes: 0.434 seconds\n"
     ]
    }
   ],
   "source": [
    "# Monte Carlo Prediction\n",
    "returns_set = {i: 0 for i in available_states}\n",
    "returns_set[100] = 0\n",
    "num_visited = {i: 0 for i in available_states}\n",
    "episode_history_mc_es = []\n",
    "operation_history_mc_es = []\n",
    "\n",
    "start_time_mc_es = time.time()\n",
    "# loop until n_episode\n",
    "for i in range(n_episode):\n",
    "    print(f\"Episode {i+1}/{n_episode}\", end='\\r')\n",
    "\n",
    "    # play one game\n",
    "    play_history = generate_episode_es(sl_env, available_states)\n",
    "\n",
    "    # initialize returns\n",
    "    g = 0\n",
    "\n",
    "    # loop over from initial state up to before terminal\n",
    "    for i in range(len(play_history) - 2, -1, -1):\n",
    "\n",
    "        # increment the return\n",
    "        g = g + 1\n",
    "\n",
    "        # check if the current state is visited for the first time\n",
    "        if play_history[i] not in play_history[:i]:\n",
    "            \n",
    "            # increment number of visit\n",
    "            num_visited[play_history[i]] += 1\n",
    "            \n",
    "            # incremental update for average value\n",
    "            returns_set[play_history[i]] = returns_set[play_history[i]] + (\n",
    "                (1/num_visited[play_history[i]]) * (g - returns_set[play_history[i]])\n",
    "            )\n",
    "            \n",
    "            # Save the loss for each operation to the history\n",
    "            operation_history_mc_es.append(loss(returns_set, value_set))\n",
    "            \n",
    "    # Save the loss for each episode to history\n",
    "    episode_history_mc_es.append(loss(returns_set, value_set))\n",
    "    \n",
    "finish_time_mc_es = time.time()\n",
    "time_diff_mc_es = finish_time_mc_es - start_time_mc_es\n",
    "print(f\"Total time spent on {n_episode} episodes: {round(time_diff_mc_es, 3)} seconds\")"
   ]
  },
  {
   "cell_type": "code",
   "execution_count": 19,
   "metadata": {
    "scrolled": false
   },
   "outputs": [
    {
     "data": {
      "image/png": "[encoded data removed]",
      "text/plain": [
       "<Figure size 864x576 with 1 Axes>"
      ]
     },
     "metadata": {
      "needs_background": "light"
     },
     "output_type": "display_data"
    }
   ],
   "source": [
    "fig, ax = plt.subplots(1, 1, figsize=(12,8))\n",
    "_ = plt.plot(episode_history_mc, label=\"Monte Carlo Prediction\")\n",
    "_ = plt.plot(episode_history_pe, label=\"Policy Evaluation\")\n",
    "_ = plt.plot(episode_history_mc_es, label=\"Monte Carlo with Exploring Starts\")\n",
    "_ = plt.legend()\n",
    "_ = plt.title(\"Comparison between MC , MCES, and PE\")\n",
    "_ = plt.ylabel(\"Loss\")\n",
    "_ = plt.xlabel(\"Episodes\")"
   ]
  },
  {
   "cell_type": "code",
   "execution_count": 20,
   "metadata": {},
   "outputs": [
    {
     "data": {
      "image/png": "[encoded data removed]",
      "text/plain": [
       "<Figure size 864x576 with 1 Axes>"
      ]
     },
     "metadata": {
      "needs_background": "light"
     },
     "output_type": "display_data"
    }
   ],
   "source": [
    "fig, ax = plt.subplots(1, 1, figsize=(12,8))\n",
    "_ = plt.plot(operation_history_mc, label=\"Monte Carlo Prediction\")\n",
    "_ = plt.plot(operation_history_pe, label=\"Policy Evaluation\")\n",
    "_ = plt.plot(operation_history_mc_es, label=\"Monte Carlo with Exploring Starts\")\n",
    "_ = plt.legend()\n",
    "_ = plt.title(\"Comparison between MC, MCES, and PE\")\n",
    "_ = plt.ylabel(\"Loss\")\n",
    "_ = plt.xlabel(\"Number of updates\")"
   ]
  },
  {
   "cell_type": "markdown",
   "metadata": {},
   "source": [
    "Since the snakes and ladders game starts at initial state 0, the exploring starts method doesn't produce a great result compares to the original Monte Carlo method. The reason is there are some states in the actual game that are rarely visited but are visited frequently as the result of exploring starts."
   ]
  },
  {
   "cell_type": "markdown",
   "metadata": {},
   "source": [
    "## 5. Conclusion"
   ]
  },
  {
   "cell_type": "markdown",
   "metadata": {},
   "source": [
    "Both Dynamic Programming and Monte Carlo method are used to solve the reinforcement learning problems. Dynammic programming is preferable if we know the environment dynamics and the state space is finite and small. Most real world problems have large or infinite state space, in this case Monte Carlo Methods are desirable. It is also faster to converge than Dynamic Programming"
   ]
  }
 ],
 "metadata": {
  "kernelspec": {
   "display_name": "Python 3",
   "language": "python",
   "name": "python3"
  },
  "language_info": {
   "codemirror_mode": {
    "name": "ipython",
    "version": 3
   },
   "file_extension": ".py",
   "mimetype": "text/x-python",
   "name": "python",
   "nbconvert_exporter": "python",
   "pygments_lexer": "ipython3",
   "version": "3.8.5"
  }
 },
 "nbformat": 4,
 "nbformat_minor": 4
}
